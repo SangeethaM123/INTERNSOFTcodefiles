{
 "cells": [
  {
   "cell_type": "code",
   "execution_count": 1,
   "metadata": {},
   "outputs": [],
   "source": [
    "#Importing Libraries\n",
    "import os \n",
    "import time\n",
    "import subprocess as sb\n",
    "import json"
   ]
  },
  {
   "cell_type": "code",
   "execution_count": 2,
   "metadata": {},
   "outputs": [],
   "source": [
    "#Importing Libraries\n",
    "import wolframalpha as wl\n",
    "import requests as re\n",
    "import webbrowser as wb\n",
    "import wikipedia as wk\n",
    "import datetime as dt"
   ]
  },
  {
   "cell_type": "code",
   "execution_count": 3,
   "metadata": {},
   "outputs": [],
   "source": [
    "#Importing Libraries\n",
    "import speech_recognition as sr\n",
    "import pyttsx3 as ptx"
   ]
  },
  {
   "cell_type": "code",
   "execution_count": 4,
   "metadata": {},
   "outputs": [
    {
     "name": "stdout",
     "output_type": "stream",
     "text": [
      "LOADING YOUR PERSONAL ASSISTANT JARVIS\n"
     ]
    }
   ],
   "source": [
    "print ('LOADING YOUR PERSONAL ASSISTANT JARVIS')"
   ]
  },
  {
   "cell_type": "code",
   "execution_count": 5,
   "metadata": {},
   "outputs": [],
   "source": [
    "engine = ptx.init('sapi5')\n",
    "voices = engine.getProperty('voices')\n",
    "engine.setProperty(\"voice\",'voices[0].id')"
   ]
  },
  {
   "cell_type": "code",
   "execution_count": 6,
   "metadata": {},
   "outputs": [],
   "source": [
    "def speak(text):\n",
    "    engine.say(text)\n",
    "    engine.runAndWait()"
   ]
  },
  {
   "cell_type": "code",
   "execution_count": 7,
   "metadata": {},
   "outputs": [],
   "source": [
    "def wishMe():\n",
    "    hour = dt.datetime.now().hour\n",
    "    if hour >= 0 and hour <= 12:\n",
    "        speak(\"Hello, Good Morning Ms.Sangeetha\")\n",
    "        print(\"Hello, Good Morning Ms.Sangeetha\")\n",
    "    elif hour >= 12 and hour <=16:\n",
    "        speak(\"Good afternoon Ms Sangeetha, its good to hear you\")\n",
    "        print(\"Good afternoon Ms Sangeetha, its good to hear you\")\n",
    "    else:\n",
    "        speak(\"Hello mam, Its already the night time better go to sleep\")\n",
    "        print(\"Hello mam, Its already the night time better go to sleep \")\n",
    "        "
   ]
  },
  {
   "cell_type": "code",
   "execution_count": 8,
   "metadata": {},
   "outputs": [],
   "source": [
    "def takeCommand():\n",
    "    r = sr.Recognizer()\n",
    "    with sr.Microphone() as source:\n",
    "        print(\"I AM LISTENING.....\")\n",
    "        audio = r.listen(source)\n",
    "        \n",
    "        try:\n",
    "            statement = r.recognize_google(audio,language='en-in')\n",
    "            print(f\"user said:{statement}\\n\")\n",
    "            \n",
    "        except Exception as e:\n",
    "            speak(\"Pardon me , can you come again\")\n",
    "            return \"None\"\n",
    "        return statement"
   ]
  },
  {
   "cell_type": "code",
   "execution_count": 12,
   "metadata": {},
   "outputs": [
    {
     "name": "stdout",
     "output_type": "stream",
     "text": [
      "Hello mam, Its already the night time better go to sleep \n"
     ]
    }
   ],
   "source": [
    "speak(\"LOADING YOUR PERSONAL A.I  ASSISTANT JARVIS\")\n",
    "wishMe()"
   ]
  },
  {
   "cell_type": "code",
   "execution_count": null,
   "metadata": {
    "scrolled": true
   },
   "outputs": [
    {
     "name": "stdout",
     "output_type": "stream",
     "text": [
      "I AM LISTENING.....\n",
      "I AM LISTENING.....\n",
      "user said:news\n",
      "\n",
      "I AM LISTENING.....\n",
      "user said:open stackoverflow pharming\n",
      "\n",
      "I AM LISTENING.....\n",
      "I AM LISTENING.....\n",
      "I AM LISTENING.....\n",
      "I AM LISTENING.....\n",
      "user said:open Facebook\n",
      "\n",
      "I AM LISTENING.....\n",
      "user said:what is tell me the time\n",
      "\n",
      "the time is20:50:58\n",
      "I AM LISTENING.....\n",
      "user said:who made you\n",
      "\n",
      "I was built by Ms.Sangeetha in the year 2020\n",
      "I AM LISTENING.....\n",
      "I AM LISTENING.....\n",
      "I AM LISTENING.....\n",
      "I AM LISTENING.....\n"
     ]
    }
   ],
   "source": [
    "if __name__ == '__main__':\n",
    "    while True:\n",
    "        speak(\"How can I help you ?\")\n",
    "        statement = takeCommand().lower()\n",
    "        if statement == 0:\n",
    "            continue\n",
    "        if \"goodbye\" in statement or \"ok bye\" in statement or \"stop\" in statement:\n",
    "            speak(\"Your personal A.I assistant JARVIS is shutting down, Good bye I miss you\")\n",
    "            print(\"Your personal A.I assistant JARVIS is shutting down, Good bye I miss you\")\n",
    "            break\n",
    "            \n",
    "        if 'wikipedia' in statement:\n",
    "            speak(\"searching wikipedia....\")\n",
    "            statement = statement.replace(\"wikipedia\",\" \")\n",
    "            results = wk.summary(statement , sentences = 3)\n",
    "            speak(\"According to wikipedia.....\")\n",
    "            print(results)\n",
    "            speak(results)\n",
    "            \n",
    "        elif \"open youtube\" in statement:\n",
    "            speak(\"Youtube is ready for you\")\n",
    "            wb.open_new_tab(\"https://www.youtube.com/\")\n",
    "            time.sleep(5)\n",
    "            \n",
    "        elif \"open Google\" in statement:\n",
    "            speak(\"Google search is open for you\")\n",
    "            wb.open_new_tab(\"https://www.google.com/\")\n",
    "            time.sleep(5)\n",
    "        \n",
    "        elif \"open Gmail\" in statement:\n",
    "            speak(\"Opening Gmail\")\n",
    "            wb.open_new_tab(\"https://www.gmail.com\")\n",
    "            time.sleep(5)\n",
    "            \n",
    "        elif \"open facebook\" in statement:\n",
    "            speak(\"Opening Facebook for you\")\n",
    "            wb.open_new_tab(\"https://www.facebook.com/\")\n",
    "            time.sleep(5)\n",
    "            \n",
    "        elif \"weather\" in statement:\n",
    "            api_key = \"6b1c4131c89ea0645f2e613e6cceb1f4\"\n",
    "            base_url = \"https://api.openweathermap.org/data/2.5/weather?\"\n",
    "            speak(\"whats the city name\")\n",
    "            city_name = takeCommand()\n",
    "            complete_url = base_url + \"appid = \" + api_key + \"&q=\" + city_name\n",
    "            response = re.get(complete_url)\n",
    "            x = response.json()\n",
    "            if x[\"cod\"] != \"404\":\n",
    "                y = x[\"main\"]\n",
    "                current_temperature = y[\"temp\"]\n",
    "                current_humidity = y[\"humidity\"]\n",
    "                z = x[\"weather\"]\n",
    "                weather_description = z[0][\"descripiton\"]\n",
    "                speak(\"the temperature in kelvin units is \" + str(current_temperature) +\"\\n humidity in percentage is\" + str(current_humidity)+\"\\n weather description\" + str( weather_descreption))\n",
    "                print(\"the temperature in kelvin units is \" + str(current_temperature) +\"\\n humidity in percentage is\" + str(current_humidity)+\"\\n weather description\" + str( weather_descreption))\n",
    "            else:\n",
    "                speak(\"city not found\")\n",
    "                print(\"city not found\")\n",
    "                \n",
    "        elif \"time\" in statement:\n",
    "            strTime = dt.datetime.now().strftime(\"%H:%M:%S\")\n",
    "            speak(\"the time is\" + str(strTime))\n",
    "            print(\"the time is\" + str(strTime))\n",
    "            \n",
    "        elif \"who are you\" in statement or \"what can you do\" in statement:\n",
    "            speak(\"I am JARVIS , A personal A I assistant of Ms.Sangeetha . Im programmed to perform mini task like opening google, opening youtube, opening facebook, checking weather of the day, predict time , open gmail ,open stack overflow and lots more\")\n",
    "            \n",
    "        elif \"who made you\" in statement or \"who created you\" in statement or \"who dsicovered you\" in statement:\n",
    "            speak(\"I was built by Ms.Sangeetha in the year 2020\")\n",
    "            print(\"I was built by Ms.Sangeetha in the year 2020\")\n",
    "            \n",
    "        elif \"open stack overflow\" in statement:\n",
    "            wb.open_new_tab(\"https://stackoverflow.com/\")\n",
    "            time.sleep(5)\n",
    "            \n",
    "        elif \"news\" in statement:\n",
    "            news = wb.open_new_tab(\"https://timesofindia.indiatimes.com/home/headlines\")\n",
    "            speak(\"Here are some headlines from times of india\")\n",
    "            time.sleep(7)\n",
    "        \n",
    "        elif \"search\" in statement:\n",
    "            statement = statement.replace(\"search\",\" \")\n",
    "            wb.open_new_tab(\"statement\")\n",
    "            time.sleep(5)\n",
    "            \n",
    "        elif \"ask\" in statement:\n",
    "            speak(\"I can answer to computauional and geographical questions too ,just try me!! what do you want to ask\")\n",
    "            question = takeCommand()\n",
    "            app_id=\"R2K75H-7ELALHR35X\"\n",
    "            client = wl.Client('R2K75H-7ELALHR35X')\n",
    "            res = client.query(question)\n",
    "            answer = next(res.results).text\n",
    "            speak(answer)\n",
    "            print(answer)\n",
    "            \n",
    "        elif \"log off\" in statement or \"sign out\" in statement or \"shut down\" in statement:\n",
    "            speak(\"ok , Your PC will shut down in 10 seconds - make sure you have saved all your works\")\n",
    "            sb.call(['shutdown',\"\\1\"])\n",
    "            \n",
    "time.sleep(5)\n",
    "            \n",
    "            "
   ]
  },
  {
   "cell_type": "code",
   "execution_count": null,
   "metadata": {},
   "outputs": [],
   "source": []
  }
 ],
 "metadata": {
  "kernelspec": {
   "display_name": "Python 3",
   "language": "python",
   "name": "python3"
  },
  "language_info": {
   "codemirror_mode": {
    "name": "ipython",
    "version": 3
   },
   "file_extension": ".py",
   "mimetype": "text/x-python",
   "name": "python",
   "nbconvert_exporter": "python",
   "pygments_lexer": "ipython3",
   "version": "3.8.3"
  }
 },
 "nbformat": 4,
 "nbformat_minor": 4
}
