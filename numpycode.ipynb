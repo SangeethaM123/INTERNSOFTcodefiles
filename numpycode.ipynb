{
  "nbformat": 4,
  "nbformat_minor": 0,
  "metadata": {
    "kernelspec": {
      "display_name": "Python 3",
      "language": "python",
      "name": "python3"
    },
    "language_info": {
      "codemirror_mode": {
        "name": "ipython",
        "version": 3
      },
      "file_extension": ".py",
      "mimetype": "text/x-python",
      "name": "python",
      "nbconvert_exporter": "python",
      "pygments_lexer": "ipython3",
      "version": "3.8.3"
    },
    "colab": {
      "name": "Day 6 Session(Numpy).ipyb",
      "provenance": []
    }
  },
  "cells": [
    {
      "cell_type": "markdown",
      "metadata": {
        "id": "9435Z8mWKVyv",
        "colab_type": "text"
      },
      "source": [
        "--**Numpy**--"
      ]
    },
    {
      "cell_type": "code",
      "metadata": {
        "id": "tspnZlqwKVyz",
        "colab_type": "code",
        "colab": {}
      },
      "source": [
        "import numpy as np"
      ],
      "execution_count": 1,
      "outputs": []
    },
    {
      "cell_type": "code",
      "metadata": {
        "id": "WwAHoKRdKVy-",
        "colab_type": "code",
        "colab": {}
      },
      "source": [
        "x = np.arange(14)\n",
        "y = np.arange(31)"
      ],
      "execution_count": 2,
      "outputs": []
    },
    {
      "cell_type": "code",
      "metadata": {
        "id": "fRGGKUULKVzF",
        "colab_type": "code",
        "colab": {
          "base_uri": "https://localhost:8080/",
          "height": 50
        },
        "outputId": "8821982e-9617-41a9-9516-3737ecb6f119"
      },
      "source": [
        "x\n",
        "y"
      ],
      "execution_count": 3,
      "outputs": [
        {
          "output_type": "execute_result",
          "data": {
            "text/plain": [
              "array([ 0,  1,  2,  3,  4,  5,  6,  7,  8,  9, 10, 11, 12, 13, 14, 15, 16,\n",
              "       17, 18, 19, 20, 21, 22, 23, 24, 25, 26, 27, 28, 29, 30])"
            ]
          },
          "metadata": {
            "tags": []
          },
          "execution_count": 3
        }
      ]
    },
    {
      "cell_type": "code",
      "metadata": {
        "id": "JGWzOng3NZKO",
        "colab_type": "code",
        "colab": {
          "base_uri": "https://localhost:8080/",
          "height": 67
        },
        "outputId": "c1585a18-96e1-488f-99f6-ec3442720913"
      },
      "source": [
        "print(x)\n",
        "y"
      ],
      "execution_count": 4,
      "outputs": [
        {
          "output_type": "stream",
          "text": [
            "[ 0  1  2  3  4  5  6  7  8  9 10 11 12 13]\n"
          ],
          "name": "stdout"
        },
        {
          "output_type": "execute_result",
          "data": {
            "text/plain": [
              "array([ 0,  1,  2,  3,  4,  5,  6,  7,  8,  9, 10, 11, 12, 13, 14, 15, 16,\n",
              "       17, 18, 19, 20, 21, 22, 23, 24, 25, 26, 27, 28, 29, 30])"
            ]
          },
          "metadata": {
            "tags": []
          },
          "execution_count": 4
        }
      ]
    },
    {
      "cell_type": "code",
      "metadata": {
        "id": "pK_k9eSRKVzL",
        "colab_type": "code",
        "colab": {}
      },
      "source": [
        "a = np.arange(16).reshape(4,4)"
      ],
      "execution_count": 6,
      "outputs": []
    },
    {
      "cell_type": "code",
      "metadata": {
        "id": "_F7M3YjdKVzS",
        "colab_type": "code",
        "colab": {
          "base_uri": "https://localhost:8080/",
          "height": 84
        },
        "outputId": "43bf2382-d46f-490c-9d4f-12c2678a4693"
      },
      "source": [
        "a"
      ],
      "execution_count": 7,
      "outputs": [
        {
          "output_type": "execute_result",
          "data": {
            "text/plain": [
              "array([[ 0,  1,  2,  3],\n",
              "       [ 4,  5,  6,  7],\n",
              "       [ 8,  9, 10, 11],\n",
              "       [12, 13, 14, 15]])"
            ]
          },
          "metadata": {
            "tags": []
          },
          "execution_count": 7
        }
      ]
    },
    {
      "cell_type": "code",
      "metadata": {
        "id": "VPnyPC9oKVzX",
        "colab_type": "code",
        "colab": {
          "base_uri": "https://localhost:8080/",
          "height": 118
        },
        "outputId": "65fd7280-a719-498b-a2ad-16d22c0a1ba4"
      },
      "source": [
        "print(a.ndim)\n",
        "print(a.shape)\n",
        "print(a.size)\n",
        "print(a.dtype)\n",
        "print(a.itemsize)\n",
        "print(type(a))"
      ],
      "execution_count": 8,
      "outputs": [
        {
          "output_type": "stream",
          "text": [
            "2\n",
            "(4, 4)\n",
            "16\n",
            "int64\n",
            "8\n",
            "<class 'numpy.ndarray'>\n"
          ],
          "name": "stdout"
        }
      ]
    },
    {
      "cell_type": "code",
      "metadata": {
        "id": "Z5ic9DJhKVzc",
        "colab_type": "code",
        "colab": {
          "base_uri": "https://localhost:8080/",
          "height": 67
        },
        "outputId": "40953970-8b5c-4293-a489-764a6d3cd364"
      },
      "source": [
        "z = np.array( [1.0, 2.0, 3.0, 4.0] )\n",
        "print(z)\n",
        "print(z.dtype)\n",
        "print(type(z))"
      ],
      "execution_count": 10,
      "outputs": [
        {
          "output_type": "stream",
          "text": [
            "[1. 2. 3. 4.]\n",
            "float64\n",
            "<class 'numpy.ndarray'>\n"
          ],
          "name": "stdout"
        }
      ]
    },
    {
      "cell_type": "code",
      "metadata": {
        "id": "u4N0VdD_KVzh",
        "colab_type": "code",
        "colab": {
          "base_uri": "https://localhost:8080/",
          "height": 101
        },
        "outputId": "ca9972a8-2928-4df4-8dc5-9e91a1c0d839"
      },
      "source": [
        "abc = np.eye(5)\n",
        "dtype=np.float64\n",
        "abc"
      ],
      "execution_count": 11,
      "outputs": [
        {
          "output_type": "execute_result",
          "data": {
            "text/plain": [
              "array([[1., 0., 0., 0., 0.],\n",
              "       [0., 1., 0., 0., 0.],\n",
              "       [0., 0., 1., 0., 0.],\n",
              "       [0., 0., 0., 1., 0.],\n",
              "       [0., 0., 0., 0., 1.]])"
            ]
          },
          "metadata": {
            "tags": []
          },
          "execution_count": 11
        }
      ]
    },
    {
      "cell_type": "code",
      "metadata": {
        "id": "ugv2pv9yKVzl",
        "colab_type": "code",
        "colab": {
          "base_uri": "https://localhost:8080/",
          "height": 84
        },
        "outputId": "cdd40b2f-ec68-457b-fc2a-a56d5a7d3e83"
      },
      "source": [
        "d = np.linspace(-1, 3, 20, endpoint=True)\n",
        "print(d)"
      ],
      "execution_count": 12,
      "outputs": [
        {
          "output_type": "stream",
          "text": [
            "[-1.         -0.78947368 -0.57894737 -0.36842105 -0.15789474  0.05263158\n",
            "  0.26315789  0.47368421  0.68421053  0.89473684  1.10526316  1.31578947\n",
            "  1.52631579  1.73684211  1.94736842  2.15789474  2.36842105  2.57894737\n",
            "  2.78947368  3.        ]\n"
          ],
          "name": "stdout"
        }
      ]
    },
    {
      "cell_type": "code",
      "metadata": {
        "id": "GDwTEg2FUKE7",
        "colab_type": "code",
        "colab": {
          "base_uri": "https://localhost:8080/",
          "height": 50
        },
        "outputId": "23ca9f85-c357-46df-d8b2-421427f099fc"
      },
      "source": [
        "d = np.linspace(-1, 3, 20, endpoint=False)\n",
        "print(d)"
      ],
      "execution_count": 13,
      "outputs": [
        {
          "output_type": "stream",
          "text": [
            "[-1.  -0.8 -0.6 -0.4 -0.2  0.   0.2  0.4  0.6  0.8  1.   1.2  1.4  1.6\n",
            "  1.8  2.   2.2  2.4  2.6  2.8]\n"
          ],
          "name": "stdout"
        }
      ]
    },
    {
      "cell_type": "code",
      "metadata": {
        "id": "arSj2AKFKVzq",
        "colab_type": "code",
        "colab": {
          "base_uri": "https://localhost:8080/",
          "height": 101
        },
        "outputId": "4e13e19d-e267-495e-876c-16226017e42c"
      },
      "source": [
        "e = np.logspace(-1, 3, 20, endpoint=True, base=10)\n",
        "print(e)"
      ],
      "execution_count": 14,
      "outputs": [
        {
          "output_type": "stream",
          "text": [
            "[1.00000000e-01 1.62377674e-01 2.63665090e-01 4.28133240e-01\n",
            " 6.95192796e-01 1.12883789e+00 1.83298071e+00 2.97635144e+00\n",
            " 4.83293024e+00 7.84759970e+00 1.27427499e+01 2.06913808e+01\n",
            " 3.35981829e+01 5.45559478e+01 8.85866790e+01 1.43844989e+02\n",
            " 2.33572147e+02 3.79269019e+02 6.15848211e+02 1.00000000e+03]\n"
          ],
          "name": "stdout"
        }
      ]
    },
    {
      "cell_type": "code",
      "metadata": {
        "id": "FoHLeBvoKVzu",
        "colab_type": "code",
        "colab": {
          "base_uri": "https://localhost:8080/",
          "height": 1000
        },
        "outputId": "dfd5797d-4324-49c9-f778-0ce8c786b906"
      },
      "source": [
        "help(np.logspace)"
      ],
      "execution_count": 15,
      "outputs": [
        {
          "output_type": "stream",
          "text": [
            "Help on function logspace in module numpy:\n",
            "\n",
            "logspace(start, stop, num=50, endpoint=True, base=10.0, dtype=None, axis=0)\n",
            "    Return numbers spaced evenly on a log scale.\n",
            "    \n",
            "    In linear space, the sequence starts at ``base ** start``\n",
            "    (`base` to the power of `start`) and ends with ``base ** stop``\n",
            "    (see `endpoint` below).\n",
            "    \n",
            "    .. versionchanged:: 1.16.0\n",
            "        Non-scalar `start` and `stop` are now supported.\n",
            "    \n",
            "    Parameters\n",
            "    ----------\n",
            "    start : array_like\n",
            "        ``base ** start`` is the starting value of the sequence.\n",
            "    stop : array_like\n",
            "        ``base ** stop`` is the final value of the sequence, unless `endpoint`\n",
            "        is False.  In that case, ``num + 1`` values are spaced over the\n",
            "        interval in log-space, of which all but the last (a sequence of\n",
            "        length `num`) are returned.\n",
            "    num : integer, optional\n",
            "        Number of samples to generate.  Default is 50.\n",
            "    endpoint : boolean, optional\n",
            "        If true, `stop` is the last sample. Otherwise, it is not included.\n",
            "        Default is True.\n",
            "    base : float, optional\n",
            "        The base of the log space. The step size between the elements in\n",
            "        ``ln(samples) / ln(base)`` (or ``log_base(samples)``) is uniform.\n",
            "        Default is 10.0.\n",
            "    dtype : dtype\n",
            "        The type of the output array.  If `dtype` is not given, infer the data\n",
            "        type from the other input arguments.\n",
            "    axis : int, optional\n",
            "        The axis in the result to store the samples.  Relevant only if start\n",
            "        or stop are array-like.  By default (0), the samples will be along a\n",
            "        new axis inserted at the beginning. Use -1 to get an axis at the end.\n",
            "    \n",
            "        .. versionadded:: 1.16.0\n",
            "    \n",
            "    \n",
            "    Returns\n",
            "    -------\n",
            "    samples : ndarray\n",
            "        `num` samples, equally spaced on a log scale.\n",
            "    \n",
            "    See Also\n",
            "    --------\n",
            "    arange : Similar to linspace, with the step size specified instead of the\n",
            "             number of samples. Note that, when used with a float endpoint, the\n",
            "             endpoint may or may not be included.\n",
            "    linspace : Similar to logspace, but with the samples uniformly distributed\n",
            "               in linear space, instead of log space.\n",
            "    geomspace : Similar to logspace, but with endpoints specified directly.\n",
            "    \n",
            "    Notes\n",
            "    -----\n",
            "    Logspace is equivalent to the code\n",
            "    \n",
            "    >>> y = np.linspace(start, stop, num=num, endpoint=endpoint)\n",
            "    ... # doctest: +SKIP\n",
            "    >>> power(base, y).astype(dtype)\n",
            "    ... # doctest: +SKIP\n",
            "    \n",
            "    Examples\n",
            "    --------\n",
            "    >>> np.logspace(2.0, 3.0, num=4)\n",
            "    array([ 100.        ,  215.443469  ,  464.15888336, 1000.        ])\n",
            "    >>> np.logspace(2.0, 3.0, num=4, endpoint=False)\n",
            "    array([100.        ,  177.827941  ,  316.22776602,  562.34132519])\n",
            "    >>> np.logspace(2.0, 3.0, num=4, base=2.0)\n",
            "    array([4.        ,  5.0396842 ,  6.34960421,  8.        ])\n",
            "    \n",
            "    Graphical illustration:\n",
            "    \n",
            "    >>> import matplotlib.pyplot as plt\n",
            "    >>> N = 10\n",
            "    >>> x1 = np.logspace(0.1, 1, N, endpoint=True)\n",
            "    >>> x2 = np.logspace(0.1, 1, N, endpoint=False)\n",
            "    >>> y = np.zeros(N)\n",
            "    >>> plt.plot(x1, y, 'o')\n",
            "    [<matplotlib.lines.Line2D object at 0x...>]\n",
            "    >>> plt.plot(x2, y + 0.5, 'o')\n",
            "    [<matplotlib.lines.Line2D object at 0x...>]\n",
            "    >>> plt.ylim([-0.5, 1])\n",
            "    (-0.5, 1)\n",
            "    >>> plt.show()\n",
            "\n"
          ],
          "name": "stdout"
        }
      ]
    },
    {
      "cell_type": "code",
      "metadata": {
        "id": "qQ41CFaLKVz0",
        "colab_type": "code",
        "colab": {
          "base_uri": "https://localhost:8080/",
          "height": 67
        },
        "outputId": "4e314e0d-d096-48af-e6c8-66b5d1a6486c"
      },
      "source": [
        "f = np.fromfunction(lambda i, j: i == j, (3, 3), dtype=int)\n",
        "f"
      ],
      "execution_count": 16,
      "outputs": [
        {
          "output_type": "execute_result",
          "data": {
            "text/plain": [
              "array([[ True, False, False],\n",
              "       [False,  True, False],\n",
              "       [False, False,  True]])"
            ]
          },
          "metadata": {
            "tags": []
          },
          "execution_count": 16
        }
      ]
    },
    {
      "cell_type": "code",
      "metadata": {
        "id": "9q4IP2iXUfeE",
        "colab_type": "code",
        "colab": {
          "base_uri": "https://localhost:8080/",
          "height": 101
        },
        "outputId": "ed55beda-bdd7-4a77-d529-7a9972453c51"
      },
      "source": [
        "f = np.fromfunction(lambda i, j: i != j, (5, 5), dtype=int)\n",
        "f"
      ],
      "execution_count": 17,
      "outputs": [
        {
          "output_type": "execute_result",
          "data": {
            "text/plain": [
              "array([[False,  True,  True,  True,  True],\n",
              "       [ True, False,  True,  True,  True],\n",
              "       [ True,  True, False,  True,  True],\n",
              "       [ True,  True,  True, False,  True],\n",
              "       [ True,  True,  True,  True, False]])"
            ]
          },
          "metadata": {
            "tags": []
          },
          "execution_count": 17
        }
      ]
    },
    {
      "cell_type": "markdown",
      "metadata": {
        "id": "0oQuDmVxKVz6",
        "colab_type": "text"
      },
      "source": [
        "--**Array Operations**--"
      ]
    },
    {
      "cell_type": "code",
      "metadata": {
        "id": "zomcqb5iKVz8",
        "colab_type": "code",
        "colab": {
          "base_uri": "https://localhost:8080/",
          "height": 84
        },
        "outputId": "ae231566-66a0-4f21-d4df-338ec3410bc5"
      },
      "source": [
        "a = np.arange(20).reshape(4,5)\n",
        "print(a)"
      ],
      "execution_count": 21,
      "outputs": [
        {
          "output_type": "stream",
          "text": [
            "[[ 0  1  2  3  4]\n",
            " [ 5  6  7  8  9]\n",
            " [10 11 12 13 14]\n",
            " [15 16 17 18 19]]\n"
          ],
          "name": "stdout"
        }
      ]
    },
    {
      "cell_type": "code",
      "metadata": {
        "id": "bDsxIxS8KV0A",
        "colab_type": "code",
        "colab": {
          "base_uri": "https://localhost:8080/",
          "height": 84
        },
        "outputId": "032a348d-17b9-4575-9073-8f28989c3922"
      },
      "source": [
        "a*4"
      ],
      "execution_count": 22,
      "outputs": [
        {
          "output_type": "execute_result",
          "data": {
            "text/plain": [
              "array([[ 0,  4,  8, 12, 16],\n",
              "       [20, 24, 28, 32, 36],\n",
              "       [40, 44, 48, 52, 56],\n",
              "       [60, 64, 68, 72, 76]])"
            ]
          },
          "metadata": {
            "tags": []
          },
          "execution_count": 22
        }
      ]
    },
    {
      "cell_type": "code",
      "metadata": {
        "id": "JyfYmF2rKV0F",
        "colab_type": "code",
        "colab": {
          "base_uri": "https://localhost:8080/",
          "height": 84
        },
        "outputId": "f8d840af-bbe8-436c-a789-76f81674a84a"
      },
      "source": [
        "a + a*2"
      ],
      "execution_count": 23,
      "outputs": [
        {
          "output_type": "execute_result",
          "data": {
            "text/plain": [
              "array([[ 0,  3,  6,  9, 12],\n",
              "       [15, 18, 21, 24, 27],\n",
              "       [30, 33, 36, 39, 42],\n",
              "       [45, 48, 51, 54, 57]])"
            ]
          },
          "metadata": {
            "tags": []
          },
          "execution_count": 23
        }
      ]
    },
    {
      "cell_type": "code",
      "metadata": {
        "id": "yIR7ZzUuKV0L",
        "colab_type": "code",
        "colab": {
          "base_uri": "https://localhost:8080/",
          "height": 84
        },
        "outputId": "cb27b3f7-99df-4fa0-96a9-3ba04b928069"
      },
      "source": [
        "a*a"
      ],
      "execution_count": 24,
      "outputs": [
        {
          "output_type": "execute_result",
          "data": {
            "text/plain": [
              "array([[  0,   1,   4,   9,  16],\n",
              "       [ 25,  36,  49,  64,  81],\n",
              "       [100, 121, 144, 169, 196],\n",
              "       [225, 256, 289, 324, 361]])"
            ]
          },
          "metadata": {
            "tags": []
          },
          "execution_count": 24
        }
      ]
    },
    {
      "cell_type": "code",
      "metadata": {
        "id": "ODX_yrFJKV0P",
        "colab_type": "code",
        "colab": {
          "base_uri": "https://localhost:8080/",
          "height": 101
        },
        "outputId": "999a73a5-d831-4eaf-eeb7-6a7247d26782"
      },
      "source": [
        "b = a.transpose()\n",
        "b"
      ],
      "execution_count": 25,
      "outputs": [
        {
          "output_type": "execute_result",
          "data": {
            "text/plain": [
              "array([[ 0,  5, 10, 15],\n",
              "       [ 1,  6, 11, 16],\n",
              "       [ 2,  7, 12, 17],\n",
              "       [ 3,  8, 13, 18],\n",
              "       [ 4,  9, 14, 19]])"
            ]
          },
          "metadata": {
            "tags": []
          },
          "execution_count": 25
        }
      ]
    },
    {
      "cell_type": "code",
      "metadata": {
        "id": "BJJLhg-qKV0T",
        "colab_type": "code",
        "colab": {
          "base_uri": "https://localhost:8080/",
          "height": 84
        },
        "outputId": "a5417ab6-aa26-4af4-e9ec-cf5654c04dc8"
      },
      "source": [
        "a @ b"
      ],
      "execution_count": 26,
      "outputs": [
        {
          "output_type": "execute_result",
          "data": {
            "text/plain": [
              "array([[  30,   80,  130,  180],\n",
              "       [  80,  255,  430,  605],\n",
              "       [ 130,  430,  730, 1030],\n",
              "       [ 180,  605, 1030, 1455]])"
            ]
          },
          "metadata": {
            "tags": []
          },
          "execution_count": 26
        }
      ]
    },
    {
      "cell_type": "code",
      "metadata": {
        "id": "z9qO8KH8KV0X",
        "colab_type": "code",
        "colab": {
          "base_uri": "https://localhost:8080/",
          "height": 101
        },
        "outputId": "9541a0fa-8fc3-4cda-ffed-e0d2e727b90b"
      },
      "source": [
        "print(a)\n",
        "a.sum(axis=1)"
      ],
      "execution_count": 27,
      "outputs": [
        {
          "output_type": "stream",
          "text": [
            "[[ 0  1  2  3  4]\n",
            " [ 5  6  7  8  9]\n",
            " [10 11 12 13 14]\n",
            " [15 16 17 18 19]]\n"
          ],
          "name": "stdout"
        },
        {
          "output_type": "execute_result",
          "data": {
            "text/plain": [
              "array([10, 35, 60, 85])"
            ]
          },
          "metadata": {
            "tags": []
          },
          "execution_count": 27
        }
      ]
    },
    {
      "cell_type": "code",
      "metadata": {
        "id": "NhkZgBVfVqfu",
        "colab_type": "code",
        "colab": {
          "base_uri": "https://localhost:8080/",
          "height": 101
        },
        "outputId": "94ced75c-2374-4850-fdc7-a7a3870496e6"
      },
      "source": [
        "print(a)\n",
        "a.sum(axis=0)"
      ],
      "execution_count": 28,
      "outputs": [
        {
          "output_type": "stream",
          "text": [
            "[[ 0  1  2  3  4]\n",
            " [ 5  6  7  8  9]\n",
            " [10 11 12 13 14]\n",
            " [15 16 17 18 19]]\n"
          ],
          "name": "stdout"
        },
        {
          "output_type": "execute_result",
          "data": {
            "text/plain": [
              "array([30, 34, 38, 42, 46])"
            ]
          },
          "metadata": {
            "tags": []
          },
          "execution_count": 28
        }
      ]
    },
    {
      "cell_type": "code",
      "metadata": {
        "id": "h5qXUnuHKV0c",
        "colab_type": "code",
        "colab": {
          "base_uri": "https://localhost:8080/",
          "height": 34
        },
        "outputId": "fb680995-899e-4284-bf99-f80b3af47919"
      },
      "source": [
        "a.sum()"
      ],
      "execution_count": 29,
      "outputs": [
        {
          "output_type": "execute_result",
          "data": {
            "text/plain": [
              "190"
            ]
          },
          "metadata": {
            "tags": []
          },
          "execution_count": 29
        }
      ]
    },
    {
      "cell_type": "code",
      "metadata": {
        "id": "sbyR33FJKV0g",
        "colab_type": "code",
        "colab": {
          "base_uri": "https://localhost:8080/",
          "height": 34
        },
        "outputId": "73bd0fe6-eead-4e29-b2ec-14d517099037"
      },
      "source": [
        "print(a.min(), a.max())"
      ],
      "execution_count": 30,
      "outputs": [
        {
          "output_type": "stream",
          "text": [
            "0 19\n"
          ],
          "name": "stdout"
        }
      ]
    },
    {
      "cell_type": "markdown",
      "metadata": {
        "id": "A0dZAmNIKV0k",
        "colab_type": "text"
      },
      "source": [
        "--**Universal Functions**--"
      ]
    },
    {
      "cell_type": "code",
      "metadata": {
        "id": "LGbPxgGtKV0l",
        "colab_type": "code",
        "colab": {
          "base_uri": "https://localhost:8080/",
          "height": 84
        },
        "outputId": "725c02d9-b409-412b-c192-a6d573726f24"
      },
      "source": [
        "b = a*np.pi/5.0\n",
        "print(b)"
      ],
      "execution_count": 32,
      "outputs": [
        {
          "output_type": "stream",
          "text": [
            "[[ 0.          0.62831853  1.25663706  1.88495559  2.51327412]\n",
            " [ 3.14159265  3.76991118  4.39822972  5.02654825  5.65486678]\n",
            " [ 6.28318531  6.91150384  7.53982237  8.1681409   8.79645943]\n",
            " [ 9.42477796 10.05309649 10.68141502 11.30973355 11.93805208]]\n"
          ],
          "name": "stdout"
        }
      ]
    },
    {
      "cell_type": "code",
      "metadata": {
        "id": "-eBxqhkZKV0p",
        "colab_type": "code",
        "colab": {
          "base_uri": "https://localhost:8080/",
          "height": 84
        },
        "outputId": "4fedef2c-0822-4c0c-8ee3-32248f9b071c"
      },
      "source": [
        "c = np.cos(b)\n",
        "print(c)"
      ],
      "execution_count": 33,
      "outputs": [
        {
          "output_type": "stream",
          "text": [
            "[[ 1.          0.80901699  0.30901699 -0.30901699 -0.80901699]\n",
            " [-1.         -0.80901699 -0.30901699  0.30901699  0.80901699]\n",
            " [ 1.          0.80901699  0.30901699 -0.30901699 -0.80901699]\n",
            " [-1.         -0.80901699 -0.30901699  0.30901699  0.80901699]]\n"
          ],
          "name": "stdout"
        }
      ]
    },
    {
      "cell_type": "code",
      "metadata": {
        "id": "_2bD76WkKV0u",
        "colab_type": "code",
        "colab": {}
      },
      "source": [
        "d = b + c "
      ],
      "execution_count": 34,
      "outputs": []
    },
    {
      "cell_type": "code",
      "metadata": {
        "id": "mn-MKa-1KV0y",
        "colab_type": "code",
        "colab": {
          "base_uri": "https://localhost:8080/",
          "height": 84
        },
        "outputId": "193a95c4-f86a-4176-f744-5b04bcdd1944"
      },
      "source": [
        "print(d)"
      ],
      "execution_count": 35,
      "outputs": [
        {
          "output_type": "stream",
          "text": [
            "[[ 1.          1.43733553  1.56565406  1.5759386   1.70425713]\n",
            " [ 2.14159265  2.96089419  4.08921272  5.33556524  6.46388377]\n",
            " [ 7.28318531  7.72052083  7.84883936  7.8591239   7.98744244]\n",
            " [ 8.42477796  9.2440795  10.37239803 11.61875055 12.74706908]]\n"
          ],
          "name": "stdout"
        }
      ]
    },
    {
      "cell_type": "code",
      "metadata": {
        "id": "m5yQI6ggV9vL",
        "colab_type": "code",
        "colab": {
          "base_uri": "https://localhost:8080/",
          "height": 84
        },
        "outputId": "55ab2f74-c325-4bb4-977a-63678233bfee"
      },
      "source": [
        "d"
      ],
      "execution_count": 36,
      "outputs": [
        {
          "output_type": "execute_result",
          "data": {
            "text/plain": [
              "array([[ 1.        ,  1.43733553,  1.56565406,  1.5759386 ,  1.70425713],\n",
              "       [ 2.14159265,  2.96089419,  4.08921272,  5.33556524,  6.46388377],\n",
              "       [ 7.28318531,  7.72052083,  7.84883936,  7.8591239 ,  7.98744244],\n",
              "       [ 8.42477796,  9.2440795 , 10.37239803, 11.61875055, 12.74706908]])"
            ]
          },
          "metadata": {
            "tags": []
          },
          "execution_count": 36
        }
      ]
    },
    {
      "cell_type": "code",
      "metadata": {
        "id": "dPXr34OuKV03",
        "colab_type": "code",
        "colab": {
          "base_uri": "https://localhost:8080/",
          "height": 34
        },
        "outputId": "30bbff47-ee8e-464a-9cc1-e388838dfbba"
      },
      "source": [
        "a = np.arange(14)\n",
        "a"
      ],
      "execution_count": 37,
      "outputs": [
        {
          "output_type": "execute_result",
          "data": {
            "text/plain": [
              "array([ 0,  1,  2,  3,  4,  5,  6,  7,  8,  9, 10, 11, 12, 13])"
            ]
          },
          "metadata": {
            "tags": []
          },
          "execution_count": 37
        }
      ]
    },
    {
      "cell_type": "code",
      "metadata": {
        "id": "Ch9OrzePKV09",
        "colab_type": "code",
        "colab": {
          "base_uri": "https://localhost:8080/",
          "height": 34
        },
        "outputId": "9dc621fd-7c6c-4a74-9a9d-14dfa3ca5c11"
      },
      "source": [
        "a[7]"
      ],
      "execution_count": 38,
      "outputs": [
        {
          "output_type": "execute_result",
          "data": {
            "text/plain": [
              "7"
            ]
          },
          "metadata": {
            "tags": []
          },
          "execution_count": 38
        }
      ]
    },
    {
      "cell_type": "code",
      "metadata": {
        "id": "FhckE531KV1B",
        "colab_type": "code",
        "colab": {
          "base_uri": "https://localhost:8080/",
          "height": 34
        },
        "outputId": "230dce58-fb74-4dde-f9a8-4c09416250d8"
      },
      "source": [
        "print(a[4:9])"
      ],
      "execution_count": 39,
      "outputs": [
        {
          "output_type": "stream",
          "text": [
            "[4 5 6 7 8]\n"
          ],
          "name": "stdout"
        }
      ]
    },
    {
      "cell_type": "code",
      "metadata": {
        "id": "f0gQgqw0KV1F",
        "colab_type": "code",
        "colab": {
          "base_uri": "https://localhost:8080/",
          "height": 34
        },
        "outputId": "140b4225-6e29-44f0-fa72-1dfe3711a81a"
      },
      "source": [
        "a[6:8]"
      ],
      "execution_count": 40,
      "outputs": [
        {
          "output_type": "execute_result",
          "data": {
            "text/plain": [
              "array([6, 7])"
            ]
          },
          "metadata": {
            "tags": []
          },
          "execution_count": 40
        }
      ]
    },
    {
      "cell_type": "code",
      "metadata": {
        "id": "FVqlMLzVKV1J",
        "colab_type": "code",
        "colab": {
          "base_uri": "https://localhost:8080/",
          "height": 34
        },
        "outputId": "fed50e69-8ce3-499b-c928-0166a42ab5c3"
      },
      "source": [
        "a[:]"
      ],
      "execution_count": 41,
      "outputs": [
        {
          "output_type": "execute_result",
          "data": {
            "text/plain": [
              "array([ 0,  1,  2,  3,  4,  5,  6,  7,  8,  9, 10, 11, 12, 13])"
            ]
          },
          "metadata": {
            "tags": []
          },
          "execution_count": 41
        }
      ]
    },
    {
      "cell_type": "code",
      "metadata": {
        "id": "njBgHTZVKV1O",
        "colab_type": "code",
        "colab": {
          "base_uri": "https://localhost:8080/",
          "height": 67
        },
        "outputId": "58fd56f0-70ab-4a51-95c7-efad10804087"
      },
      "source": [
        "a = np.arange(9).reshape(3,3)\n",
        "a"
      ],
      "execution_count": 42,
      "outputs": [
        {
          "output_type": "execute_result",
          "data": {
            "text/plain": [
              "array([[0, 1, 2],\n",
              "       [3, 4, 5],\n",
              "       [6, 7, 8]])"
            ]
          },
          "metadata": {
            "tags": []
          },
          "execution_count": 42
        }
      ]
    },
    {
      "cell_type": "code",
      "metadata": {
        "id": "w4KQbtFEKV1S",
        "colab_type": "code",
        "colab": {
          "base_uri": "https://localhost:8080/",
          "height": 34
        },
        "outputId": "58622b74-3bc8-47cf-f03d-c565365e7553"
      },
      "source": [
        "a[1,2]"
      ],
      "execution_count": 44,
      "outputs": [
        {
          "output_type": "execute_result",
          "data": {
            "text/plain": [
              "5"
            ]
          },
          "metadata": {
            "tags": []
          },
          "execution_count": 44
        }
      ]
    },
    {
      "cell_type": "code",
      "metadata": {
        "id": "UxTEdsu2KV1W",
        "colab_type": "code",
        "colab": {
          "base_uri": "https://localhost:8080/",
          "height": 34
        },
        "outputId": "4216d98d-bc51-4d62-ad27-1fa83c8a0adc"
      },
      "source": [
        "a[1:2,1:2]"
      ],
      "execution_count": 45,
      "outputs": [
        {
          "output_type": "execute_result",
          "data": {
            "text/plain": [
              "array([[4]])"
            ]
          },
          "metadata": {
            "tags": []
          },
          "execution_count": 45
        }
      ]
    },
    {
      "cell_type": "code",
      "metadata": {
        "id": "HRuCfUb_KV1a",
        "colab_type": "code",
        "colab": {
          "base_uri": "https://localhost:8080/",
          "height": 34
        },
        "outputId": "b5fe9854-a63b-4e90-c415-14edd379e9f1"
      },
      "source": [
        "a[:,1]"
      ],
      "execution_count": 46,
      "outputs": [
        {
          "output_type": "execute_result",
          "data": {
            "text/plain": [
              "array([1, 4, 7])"
            ]
          },
          "metadata": {
            "tags": []
          },
          "execution_count": 46
        }
      ]
    },
    {
      "cell_type": "code",
      "metadata": {
        "id": "0sD3_lUvKV1f",
        "colab_type": "code",
        "colab": {
          "base_uri": "https://localhost:8080/",
          "height": 34
        },
        "outputId": "daefa7f1-5bf7-474c-812b-0db50a609c7e"
      },
      "source": [
        "a = a.flatten()\n",
        "print(a)"
      ],
      "execution_count": 47,
      "outputs": [
        {
          "output_type": "stream",
          "text": [
            "[0 1 2 3 4 5 6 7 8]\n"
          ],
          "name": "stdout"
        }
      ]
    },
    {
      "cell_type": "code",
      "metadata": {
        "id": "36nydxjWKV1k",
        "colab_type": "code",
        "colab": {
          "base_uri": "https://localhost:8080/",
          "height": 218
        },
        "outputId": "1d52500e-b9aa-466d-c9b8-bf48e388818e"
      },
      "source": [
        "for j in a:\n",
        "    print(j)\n",
        "a = np.arange(9).reshape(3,3)\n",
        "print(a)"
      ],
      "execution_count": 48,
      "outputs": [
        {
          "output_type": "stream",
          "text": [
            "0\n",
            "1\n",
            "2\n",
            "3\n",
            "4\n",
            "5\n",
            "6\n",
            "7\n",
            "8\n",
            "[[0 1 2]\n",
            " [3 4 5]\n",
            " [6 7 8]]\n"
          ],
          "name": "stdout"
        }
      ]
    },
    {
      "cell_type": "code",
      "metadata": {
        "id": "jjE9VTfwKV1o",
        "colab_type": "code",
        "colab": {
          "base_uri": "https://localhost:8080/",
          "height": 168
        },
        "outputId": "df6c641f-0d8b-440e-871d-c79d38dc1a64"
      },
      "source": [
        "for e in a.flat:\n",
        "    print(e)"
      ],
      "execution_count": 49,
      "outputs": [
        {
          "output_type": "stream",
          "text": [
            "0\n",
            "1\n",
            "2\n",
            "3\n",
            "4\n",
            "5\n",
            "6\n",
            "7\n",
            "8\n"
          ],
          "name": "stdout"
        }
      ]
    },
    {
      "cell_type": "code",
      "metadata": {
        "id": "VB6At-iUKV1s",
        "colab_type": "code",
        "colab": {
          "base_uri": "https://localhost:8080/",
          "height": 34
        },
        "outputId": "986fe887-31bd-4db9-d235-a8f2df1ce57c"
      },
      "source": [
        "a = np.arange(18)\n",
        "print(a)"
      ],
      "execution_count": 50,
      "outputs": [
        {
          "output_type": "stream",
          "text": [
            "[ 0  1  2  3  4  5  6  7  8  9 10 11 12 13 14 15 16 17]\n"
          ],
          "name": "stdout"
        }
      ]
    },
    {
      "cell_type": "code",
      "metadata": {
        "id": "K37CdnWmKV1w",
        "colab_type": "code",
        "colab": {
          "base_uri": "https://localhost:8080/",
          "height": 34
        },
        "outputId": "ee142e94-d747-421e-d622-b22283515fc3"
      },
      "source": [
        "b = a\n",
        "b is a"
      ],
      "execution_count": 51,
      "outputs": [
        {
          "output_type": "execute_result",
          "data": {
            "text/plain": [
              "True"
            ]
          },
          "metadata": {
            "tags": []
          },
          "execution_count": 51
        }
      ]
    },
    {
      "cell_type": "code",
      "metadata": {
        "id": "mqZXJwwsKV12",
        "colab_type": "code",
        "colab": {
          "base_uri": "https://localhost:8080/",
          "height": 84
        },
        "outputId": "49beab95-c69e-448e-e8a6-b39f6ed5c442"
      },
      "source": [
        "b.shape = (3, 6)\n",
        "print(b)\n",
        "a.shape"
      ],
      "execution_count": 54,
      "outputs": [
        {
          "output_type": "stream",
          "text": [
            "[[ 0  1  2  3  4  5]\n",
            " [ 6  7  8  9 10 11]\n",
            " [12 13 14 15 16 17]]\n"
          ],
          "name": "stdout"
        },
        {
          "output_type": "execute_result",
          "data": {
            "text/plain": [
              "(3, 6)"
            ]
          },
          "metadata": {
            "tags": []
          },
          "execution_count": 54
        }
      ]
    },
    {
      "cell_type": "code",
      "metadata": {
        "id": "oiynLsMIKV15",
        "colab_type": "code",
        "colab": {
          "base_uri": "https://localhost:8080/",
          "height": 34
        },
        "outputId": "42c9ae64-505a-47cc-b769-8fb729380dd3"
      },
      "source": [
        "b is a"
      ],
      "execution_count": 55,
      "outputs": [
        {
          "output_type": "execute_result",
          "data": {
            "text/plain": [
              "True"
            ]
          },
          "metadata": {
            "tags": []
          },
          "execution_count": 55
        }
      ]
    },
    {
      "cell_type": "code",
      "metadata": {
        "id": "2Aw8AtO2KV2B",
        "colab_type": "code",
        "colab": {
          "base_uri": "https://localhost:8080/",
          "height": 67
        },
        "outputId": "bdcea6fb-3495-407e-90c3-191ca1189a84"
      },
      "source": [
        "print(a)"
      ],
      "execution_count": 56,
      "outputs": [
        {
          "output_type": "stream",
          "text": [
            "[[ 0  1  2  3  4  5]\n",
            " [ 6  7  8  9 10 11]\n",
            " [12 13 14 15 16 17]]\n"
          ],
          "name": "stdout"
        }
      ]
    },
    {
      "cell_type": "code",
      "metadata": {
        "id": "uNGfEgU5KV2E",
        "colab_type": "code",
        "colab": {
          "base_uri": "https://localhost:8080/",
          "height": 134
        },
        "outputId": "26def8fe-65a1-407a-b98f-e445ff075944"
      },
      "source": [
        "a = np.arange(30)\n",
        "c = a[:]\n",
        "a.shape = (5,6)\n",
        "\n",
        "print(a)\n",
        "print(c)"
      ],
      "execution_count": 57,
      "outputs": [
        {
          "output_type": "stream",
          "text": [
            "[[ 0  1  2  3  4  5]\n",
            " [ 6  7  8  9 10 11]\n",
            " [12 13 14 15 16 17]\n",
            " [18 19 20 21 22 23]\n",
            " [24 25 26 27 28 29]]\n",
            "[ 0  1  2  3  4  5  6  7  8  9 10 11 12 13 14 15 16 17 18 19 20 21 22 23\n",
            " 24 25 26 27 28 29]\n"
          ],
          "name": "stdout"
        }
      ]
    },
    {
      "cell_type": "code",
      "metadata": {
        "id": "cjqQrD4GKV2I",
        "colab_type": "code",
        "colab": {
          "base_uri": "https://localhost:8080/",
          "height": 134
        },
        "outputId": "caa08566-97db-4fb3-fe41-0648f83c39f6"
      },
      "source": [
        "c[8] = -00\n",
        "print(a)\n",
        "print(c)"
      ],
      "execution_count": 58,
      "outputs": [
        {
          "output_type": "stream",
          "text": [
            "[[ 0  1  2  3  4  5]\n",
            " [ 6  7  0  9 10 11]\n",
            " [12 13 14 15 16 17]\n",
            " [18 19 20 21 22 23]\n",
            " [24 25 26 27 28 29]]\n",
            "[ 0  1  2  3  4  5  6  7  0  9 10 11 12 13 14 15 16 17 18 19 20 21 22 23\n",
            " 24 25 26 27 28 29]\n"
          ],
          "name": "stdout"
        }
      ]
    },
    {
      "cell_type": "code",
      "metadata": {
        "id": "Q11iEyjpKV2K",
        "colab_type": "code",
        "colab": {
          "base_uri": "https://localhost:8080/",
          "height": 34
        },
        "outputId": "b16ac513-c437-4b55-cad4-f20988e96398"
      },
      "source": [
        "d = c[9:22]\n",
        "print(d)"
      ],
      "execution_count": 59,
      "outputs": [
        {
          "output_type": "stream",
          "text": [
            "[ 9 10 11 12 13 14 15 16 17 18 19 20 21]\n"
          ],
          "name": "stdout"
        }
      ]
    },
    {
      "cell_type": "code",
      "metadata": {
        "id": "ZlA3yQOuKV2O",
        "colab_type": "code",
        "colab": {}
      },
      "source": [
        "d[:] = 0 "
      ],
      "execution_count": 60,
      "outputs": []
    },
    {
      "cell_type": "code",
      "metadata": {
        "id": "xs3P1H3dKV2W",
        "colab_type": "code",
        "colab": {
          "base_uri": "https://localhost:8080/",
          "height": 151
        },
        "outputId": "faebcc98-ea02-4b73-a505-03f60a55c729"
      },
      "source": [
        "print(a)\n",
        "print(c)\n",
        "print(d)"
      ],
      "execution_count": 61,
      "outputs": [
        {
          "output_type": "stream",
          "text": [
            "[[ 0  1  2  3  4  5]\n",
            " [ 6  7  0  0  0  0]\n",
            " [ 0  0  0  0  0  0]\n",
            " [ 0  0  0  0 22 23]\n",
            " [24 25 26 27 28 29]]\n",
            "[ 0  1  2  3  4  5  6  7  0  0  0  0  0  0  0  0  0  0  0  0  0  0 22 23\n",
            " 24 25 26 27 28 29]\n",
            "[0 0 0 0 0 0 0 0 0 0 0 0 0]\n"
          ],
          "name": "stdout"
        }
      ]
    },
    {
      "cell_type": "code",
      "metadata": {
        "id": "AKN1c4_pKV2Z",
        "colab_type": "code",
        "colab": {
          "base_uri": "https://localhost:8080/",
          "height": 84
        },
        "outputId": "7737c699-dbcc-4334-bc4e-a712347c25cc"
      },
      "source": [
        "print(c is a)\n",
        "print(c.base is a)\n",
        "print(c.flags.owndata)\n",
        "print(a.flags.owndata)"
      ],
      "execution_count": 62,
      "outputs": [
        {
          "output_type": "stream",
          "text": [
            "False\n",
            "True\n",
            "False\n",
            "True\n"
          ],
          "name": "stdout"
        }
      ]
    },
    {
      "cell_type": "code",
      "metadata": {
        "id": "DrzL1eLnKV2c",
        "colab_type": "code",
        "colab": {
          "base_uri": "https://localhost:8080/",
          "height": 185
        },
        "outputId": "9f3196d2-efee-4fe2-a757-aec61d96dd10"
      },
      "source": [
        "d = a.copy()\n",
        "d[:,:] = 3.3\n",
        "print(a)\n",
        "print(d)"
      ],
      "execution_count": 63,
      "outputs": [
        {
          "output_type": "stream",
          "text": [
            "[[ 0  1  2  3  4  5]\n",
            " [ 6  7  0  0  0  0]\n",
            " [ 0  0  0  0  0  0]\n",
            " [ 0  0  0  0 22 23]\n",
            " [24 25 26 27 28 29]]\n",
            "[[3 3 3 3 3 3]\n",
            " [3 3 3 3 3 3]\n",
            " [3 3 3 3 3 3]\n",
            " [3 3 3 3 3 3]\n",
            " [3 3 3 3 3 3]]\n"
          ],
          "name": "stdout"
        }
      ]
    },
    {
      "cell_type": "markdown",
      "metadata": {
        "id": "is_kert2KV2e",
        "colab_type": "text"
      },
      "source": [
        "--**Boolean Indexing**--"
      ]
    },
    {
      "cell_type": "code",
      "metadata": {
        "id": "288k0aRbKV2f",
        "colab_type": "code",
        "colab": {
          "base_uri": "https://localhost:8080/",
          "height": 67
        },
        "outputId": "3b4f9019-6edc-4d34-cf50-5b5af3372eaf"
      },
      "source": [
        "a = np.arange(21).reshape(3,7)\n",
        "a"
      ],
      "execution_count": 65,
      "outputs": [
        {
          "output_type": "execute_result",
          "data": {
            "text/plain": [
              "array([[ 0,  1,  2,  3,  4,  5,  6],\n",
              "       [ 7,  8,  9, 10, 11, 12, 13],\n",
              "       [14, 15, 16, 17, 18, 19, 20]])"
            ]
          },
          "metadata": {
            "tags": []
          },
          "execution_count": 65
        }
      ]
    },
    {
      "cell_type": "code",
      "metadata": {
        "id": "EPUpmnD5KV2j",
        "colab_type": "code",
        "colab": {
          "base_uri": "https://localhost:8080/",
          "height": 67
        },
        "outputId": "7d59d109-5073-417d-a99d-a001632d20c4"
      },
      "source": [
        "a[a > 9] = 0\n",
        "a"
      ],
      "execution_count": 66,
      "outputs": [
        {
          "output_type": "execute_result",
          "data": {
            "text/plain": [
              "array([[0, 1, 2, 3, 4, 5, 6],\n",
              "       [7, 8, 9, 0, 0, 0, 0],\n",
              "       [0, 0, 0, 0, 0, 0, 0]])"
            ]
          },
          "metadata": {
            "tags": []
          },
          "execution_count": 66
        }
      ]
    },
    {
      "cell_type": "code",
      "metadata": {
        "id": "6igUfd3XKV2o",
        "colab_type": "code",
        "colab": {
          "base_uri": "https://localhost:8080/",
          "height": 67
        },
        "outputId": "eadfa78e-8c6a-488d-d0fb-13e69e4da327"
      },
      "source": [
        "a[a == 0] = -1\n",
        "a"
      ],
      "execution_count": 67,
      "outputs": [
        {
          "output_type": "execute_result",
          "data": {
            "text/plain": [
              "array([[-1,  1,  2,  3,  4,  5,  6],\n",
              "       [ 7,  8,  9, -1, -1, -1, -1],\n",
              "       [-1, -1, -1, -1, -1, -1, -1]])"
            ]
          },
          "metadata": {
            "tags": []
          },
          "execution_count": 67
        }
      ]
    },
    {
      "cell_type": "code",
      "metadata": {
        "id": "3ODJ7q51Z72j",
        "colab_type": "code",
        "colab": {
          "base_uri": "https://localhost:8080/",
          "height": 67
        },
        "outputId": "99f99a04-b26f-438d-bf7d-ef2b5857f1c8"
      },
      "source": [
        "a[a != 0] = -1\n",
        "a"
      ],
      "execution_count": 68,
      "outputs": [
        {
          "output_type": "execute_result",
          "data": {
            "text/plain": [
              "array([[-1, -1, -1, -1, -1, -1, -1],\n",
              "       [-1, -1, -1, -1, -1, -1, -1],\n",
              "       [-1, -1, -1, -1, -1, -1, -1]])"
            ]
          },
          "metadata": {
            "tags": []
          },
          "execution_count": 68
        }
      ]
    },
    {
      "cell_type": "code",
      "metadata": {
        "id": "O4SXxVfHKV2w",
        "colab_type": "code",
        "colab": {
          "base_uri": "https://localhost:8080/",
          "height": 67
        },
        "outputId": "aa52366d-b403-48a3-f1ff-8add0733291f"
      },
      "source": [
        "a == -1"
      ],
      "execution_count": 69,
      "outputs": [
        {
          "output_type": "execute_result",
          "data": {
            "text/plain": [
              "array([[ True,  True,  True,  True,  True,  True,  True],\n",
              "       [ True,  True,  True,  True,  True,  True,  True],\n",
              "       [ True,  True,  True,  True,  True,  True,  True]])"
            ]
          },
          "metadata": {
            "tags": []
          },
          "execution_count": 69
        }
      ]
    },
    {
      "cell_type": "code",
      "metadata": {
        "id": "TIOAANNXKV20",
        "colab_type": "code",
        "colab": {
          "base_uri": "https://localhost:8080/",
          "height": 67
        },
        "outputId": "fbdc6f3f-471a-4834-ce45-717ad1144fde"
      },
      "source": [
        "a = np.arange(15).reshape(3,5)\n",
        "a[np.logical_and(a > 4, a <= 9)] = 0.0\n",
        "a"
      ],
      "execution_count": 71,
      "outputs": [
        {
          "output_type": "execute_result",
          "data": {
            "text/plain": [
              "array([[ 0,  1,  2,  3,  4],\n",
              "       [ 0,  0,  0,  0,  0],\n",
              "       [10, 11, 12, 13, 14]])"
            ]
          },
          "metadata": {
            "tags": []
          },
          "execution_count": 71
        }
      ]
    },
    {
      "cell_type": "code",
      "metadata": {
        "id": "QY7YiO5iKV27",
        "colab_type": "code",
        "colab": {
          "base_uri": "https://localhost:8080/",
          "height": 67
        },
        "outputId": "6e39154c-3c73-4b3b-cc01-eacbae46da13"
      },
      "source": [
        "a > 4"
      ],
      "execution_count": 72,
      "outputs": [
        {
          "output_type": "execute_result",
          "data": {
            "text/plain": [
              "array([[False, False, False, False, False],\n",
              "       [False, False, False, False, False],\n",
              "       [ True,  True,  True,  True,  True]])"
            ]
          },
          "metadata": {
            "tags": []
          },
          "execution_count": 72
        }
      ]
    },
    {
      "cell_type": "code",
      "metadata": {
        "id": "wGNvnJR4KV2-",
        "colab_type": "code",
        "colab": {
          "base_uri": "https://localhost:8080/",
          "height": 235
        },
        "outputId": "3d1b0b17-2af8-43d6-9966-96bf49592207"
      },
      "source": [
        "M = 32\n",
        "N = 64\n",
        "xmin = ymin = 0.0\n",
        "xmax = ymax = 1.0\n",
        "\n",
        "x = np.linspace(xmin, xmax, M, endpoint=False)\n",
        "y = np.linspace(ymin, ymax, N, endpoint=False)\n",
        "\n",
        "print(x.shape)\n",
        "print(y.shape)\n",
        "y"
      ],
      "execution_count": 73,
      "outputs": [
        {
          "output_type": "stream",
          "text": [
            "(32,)\n",
            "(64,)\n"
          ],
          "name": "stdout"
        },
        {
          "output_type": "execute_result",
          "data": {
            "text/plain": [
              "array([0.      , 0.015625, 0.03125 , 0.046875, 0.0625  , 0.078125,\n",
              "       0.09375 , 0.109375, 0.125   , 0.140625, 0.15625 , 0.171875,\n",
              "       0.1875  , 0.203125, 0.21875 , 0.234375, 0.25    , 0.265625,\n",
              "       0.28125 , 0.296875, 0.3125  , 0.328125, 0.34375 , 0.359375,\n",
              "       0.375   , 0.390625, 0.40625 , 0.421875, 0.4375  , 0.453125,\n",
              "       0.46875 , 0.484375, 0.5     , 0.515625, 0.53125 , 0.546875,\n",
              "       0.5625  , 0.578125, 0.59375 , 0.609375, 0.625   , 0.640625,\n",
              "       0.65625 , 0.671875, 0.6875  , 0.703125, 0.71875 , 0.734375,\n",
              "       0.75    , 0.765625, 0.78125 , 0.796875, 0.8125  , 0.828125,\n",
              "       0.84375 , 0.859375, 0.875   , 0.890625, 0.90625 , 0.921875,\n",
              "       0.9375  , 0.953125, 0.96875 , 0.984375])"
            ]
          },
          "metadata": {
            "tags": []
          },
          "execution_count": 73
        }
      ]
    },
    {
      "cell_type": "code",
      "metadata": {
        "id": "PIoUmM8ZKV3E",
        "colab_type": "code",
        "colab": {}
      },
      "source": [
        "import time\n",
        "import numpy as np\n",
        "M = 16\n",
        "N = 32\n",
        "\n",
        "x = np.linspace(0.0, 1.0, M, endpoint=False)\n",
        "y = np.linspace(0.0, 1.0, N, endpoint=False)\n"
      ],
      "execution_count": 74,
      "outputs": []
    },
    {
      "cell_type": "code",
      "metadata": {
        "id": "MqctJ4qVKV3H",
        "colab_type": "code",
        "colab": {
          "base_uri": "https://localhost:8080/",
          "height": 34
        },
        "outputId": "244d6297-0777-4b9d-dfca-00c5a056422f"
      },
      "source": [
        "t0 = time.time()\n",
        "\n",
        "g = np.zeros((M, N))\n",
        "\n",
        "for i in range(M):\n",
        "    for j in range(N):\n",
        "        g[i,j] = np.sin(2.0*np.pi*x[i]*y[j])\n",
        "        \n",
        "t1 = time.time()\n",
        "print(\"time elapsed: {} s\".format(t1-t0))"
      ],
      "execution_count": 75,
      "outputs": [
        {
          "output_type": "stream",
          "text": [
            "time elapsed: 0.0015892982482910156 s\n"
          ],
          "name": "stdout"
        }
      ]
    },
    {
      "cell_type": "code",
      "metadata": {
        "id": "LEKttJ2VKV3K",
        "colab_type": "code",
        "colab": {
          "base_uri": "https://localhost:8080/",
          "height": 168
        },
        "outputId": "9c9f2182-df49-4c23-c947-98a89a049922"
      },
      "source": [
        "x2d, y2d = np.meshgrid(x, y, indexing=\"ij\")\n",
        "\n",
        "print(x2d[:,0])\n",
        "print(x2d[0,:])\n",
        "\n",
        "print(y2d[:,0])\n",
        "print(y2d[0,:])"
      ],
      "execution_count": 76,
      "outputs": [
        {
          "output_type": "stream",
          "text": [
            "[0.     0.0625 0.125  0.1875 0.25   0.3125 0.375  0.4375 0.5    0.5625\n",
            " 0.625  0.6875 0.75   0.8125 0.875  0.9375]\n",
            "[0. 0. 0. 0. 0. 0. 0. 0. 0. 0. 0. 0. 0. 0. 0. 0. 0. 0. 0. 0. 0. 0. 0. 0.\n",
            " 0. 0. 0. 0. 0. 0. 0. 0.]\n",
            "[0. 0. 0. 0. 0. 0. 0. 0. 0. 0. 0. 0. 0. 0. 0. 0.]\n",
            "[0.      0.03125 0.0625  0.09375 0.125   0.15625 0.1875  0.21875 0.25\n",
            " 0.28125 0.3125  0.34375 0.375   0.40625 0.4375  0.46875 0.5     0.53125\n",
            " 0.5625  0.59375 0.625   0.65625 0.6875  0.71875 0.75    0.78125 0.8125\n",
            " 0.84375 0.875   0.90625 0.9375  0.96875]\n"
          ],
          "name": "stdout"
        }
      ]
    },
    {
      "cell_type": "code",
      "metadata": {
        "id": "TdqOv8ENKV3N",
        "colab_type": "code",
        "colab": {
          "base_uri": "https://localhost:8080/",
          "height": 34
        },
        "outputId": "480c72a5-ec5e-41b9-c610-ab42df315225"
      },
      "source": [
        "t0 = time.time()\n",
        "g2 = np.sin(3.0*np.pi*x2d*y2d)\n",
        "t1 = time.time()\n",
        "print(\"time elapsed: {} s\".format(t1-t0))"
      ],
      "execution_count": 77,
      "outputs": [
        {
          "output_type": "stream",
          "text": [
            "time elapsed: 0.00036787986755371094 s\n"
          ],
          "name": "stdout"
        }
      ]
    },
    {
      "cell_type": "markdown",
      "metadata": {
        "id": "mnR-SbnDKV3T",
        "colab_type": "text"
      },
      "source": [
        "--**Concatenation of arrays**--"
      ]
    },
    {
      "cell_type": "code",
      "metadata": {
        "id": "0uOe835aKV3T",
        "colab_type": "code",
        "colab": {
          "base_uri": "https://localhost:8080/",
          "height": 34
        },
        "outputId": "9ed3006c-09b8-45c4-a696-472d69151631"
      },
      "source": [
        "x = np.array([11, 22, 33, 44])\n",
        "y = np.array([44, 33, 22, 11])\n",
        "np.concatenate([y,x])"
      ],
      "execution_count": 78,
      "outputs": [
        {
          "output_type": "execute_result",
          "data": {
            "text/plain": [
              "array([44, 33, 22, 11, 11, 22, 33, 44])"
            ]
          },
          "metadata": {
            "tags": []
          },
          "execution_count": 78
        }
      ]
    },
    {
      "cell_type": "code",
      "metadata": {
        "id": "1aXVssYuaz4v",
        "colab_type": "code",
        "colab": {
          "base_uri": "https://localhost:8080/",
          "height": 34
        },
        "outputId": "db7a4315-613e-4cbf-e0f1-93bebc91655c"
      },
      "source": [
        "x = np.array([11, 22, 33, 44])\n",
        "y = np.array([44, 33, 22, 11])\n",
        "np.concatenate([x,y])"
      ],
      "execution_count": 79,
      "outputs": [
        {
          "output_type": "execute_result",
          "data": {
            "text/plain": [
              "array([11, 22, 33, 44, 44, 33, 22, 11])"
            ]
          },
          "metadata": {
            "tags": []
          },
          "execution_count": 79
        }
      ]
    },
    {
      "cell_type": "code",
      "metadata": {
        "id": "0Qj1Oi89KV3V",
        "colab_type": "code",
        "colab": {
          "base_uri": "https://localhost:8080/",
          "height": 34
        },
        "outputId": "69d2fd19-c750-4e77-fefc-159a5118a2d3"
      },
      "source": [
        "z = [55, 66, 77]\n",
        "print(np.concatenate([y, x, z]))"
      ],
      "execution_count": 82,
      "outputs": [
        {
          "output_type": "stream",
          "text": [
            "[44 33 22 11 11 22 33 44 55 66 77]\n"
          ],
          "name": "stdout"
        }
      ]
    },
    {
      "cell_type": "code",
      "metadata": {
        "id": "-EQp0mq2KV3X",
        "colab_type": "code",
        "colab": {}
      },
      "source": [
        "grid = np.array([[10, 20, 30],\n",
        "                 [40, 50, 60]])"
      ],
      "execution_count": 83,
      "outputs": []
    },
    {
      "cell_type": "code",
      "metadata": {
        "id": "zxAYPCmeKV3Z",
        "colab_type": "code",
        "colab": {
          "base_uri": "https://localhost:8080/",
          "height": 84
        },
        "outputId": "4d341a4c-c4d4-4f27-ff73-03119bf2ef05"
      },
      "source": [
        "np.concatenate([grid, grid])"
      ],
      "execution_count": 84,
      "outputs": [
        {
          "output_type": "execute_result",
          "data": {
            "text/plain": [
              "array([[10, 20, 30],\n",
              "       [40, 50, 60],\n",
              "       [10, 20, 30],\n",
              "       [40, 50, 60]])"
            ]
          },
          "metadata": {
            "tags": []
          },
          "execution_count": 84
        }
      ]
    },
    {
      "cell_type": "code",
      "metadata": {
        "id": "4s9MIfxoKV3c",
        "colab_type": "code",
        "colab": {
          "base_uri": "https://localhost:8080/",
          "height": 50
        },
        "outputId": "eedb26f9-d62d-4519-d206-8596ab93d7de"
      },
      "source": [
        "np.concatenate([grid, grid], axis=1)"
      ],
      "execution_count": 85,
      "outputs": [
        {
          "output_type": "execute_result",
          "data": {
            "text/plain": [
              "array([[10, 20, 30, 10, 20, 30],\n",
              "       [40, 50, 60, 40, 50, 60]])"
            ]
          },
          "metadata": {
            "tags": []
          },
          "execution_count": 85
        }
      ]
    },
    {
      "cell_type": "code",
      "metadata": {
        "id": "3PY_wiTQbfaA",
        "colab_type": "code",
        "colab": {
          "base_uri": "https://localhost:8080/",
          "height": 84
        },
        "outputId": "05fa1d1c-bc53-46f0-c40d-7b1345b68032"
      },
      "source": [
        "np.concatenate([grid, grid], axis=0)"
      ],
      "execution_count": 86,
      "outputs": [
        {
          "output_type": "execute_result",
          "data": {
            "text/plain": [
              "array([[10, 20, 30],\n",
              "       [40, 50, 60],\n",
              "       [10, 20, 30],\n",
              "       [40, 50, 60]])"
            ]
          },
          "metadata": {
            "tags": []
          },
          "execution_count": 86
        }
      ]
    },
    {
      "cell_type": "markdown",
      "metadata": {
        "id": "WFuXLF0uKV3e",
        "colab_type": "text"
      },
      "source": [
        "--**Splitting of arrays**--"
      ]
    },
    {
      "cell_type": "code",
      "metadata": {
        "id": "0mcWORlkKV3e",
        "colab_type": "code",
        "colab": {
          "base_uri": "https://localhost:8080/",
          "height": 34
        },
        "outputId": "6287cc12-1901-4066-b90d-2f3b88f9f92c"
      },
      "source": [
        "x = [44, 33, 22, 11, 11, 22, 33, 44, 55, 66, 77]\n",
        "x1, x2, x3,x4 = np.split(x, [3, 5,8])\n",
        "print(x1, x2, x3, x4)"
      ],
      "execution_count": 89,
      "outputs": [
        {
          "output_type": "stream",
          "text": [
            "[44 33 22] [11 11] [22 33 44] [55 66 77]\n"
          ],
          "name": "stdout"
        }
      ]
    },
    {
      "cell_type": "code",
      "metadata": {
        "id": "R2-7K4DWKV3g",
        "colab_type": "code",
        "colab": {
          "base_uri": "https://localhost:8080/",
          "height": 101
        },
        "outputId": "86dd9310-5c29-47e5-a300-3297350d186b"
      },
      "source": [
        "grid = np.arange(25).reshape((5, 5))\n",
        "grid"
      ],
      "execution_count": 90,
      "outputs": [
        {
          "output_type": "execute_result",
          "data": {
            "text/plain": [
              "array([[ 0,  1,  2,  3,  4],\n",
              "       [ 5,  6,  7,  8,  9],\n",
              "       [10, 11, 12, 13, 14],\n",
              "       [15, 16, 17, 18, 19],\n",
              "       [20, 21, 22, 23, 24]])"
            ]
          },
          "metadata": {
            "tags": []
          },
          "execution_count": 90
        }
      ]
    },
    {
      "cell_type": "code",
      "metadata": {
        "id": "j2HIQw0tKV3i",
        "colab_type": "code",
        "colab": {
          "base_uri": "https://localhost:8080/",
          "height": 185
        },
        "outputId": "9169a677-cfab-4650-de29-0594383c9d99"
      },
      "source": [
        "left, right = np.hsplit(grid, [4])\n",
        "print(left)\n",
        "print(right)"
      ],
      "execution_count": 91,
      "outputs": [
        {
          "output_type": "stream",
          "text": [
            "[[ 0  1  2  3]\n",
            " [ 5  6  7  8]\n",
            " [10 11 12 13]\n",
            " [15 16 17 18]\n",
            " [20 21 22 23]]\n",
            "[[ 4]\n",
            " [ 9]\n",
            " [14]\n",
            " [19]\n",
            " [24]]\n"
          ],
          "name": "stdout"
        }
      ]
    },
    {
      "cell_type": "markdown",
      "metadata": {
        "id": "NR254klsKV3l",
        "colab_type": "text"
      },
      "source": [
        "--**Aggregates**--"
      ]
    },
    {
      "cell_type": "code",
      "metadata": {
        "id": "C-xms00rKV3l",
        "colab_type": "code",
        "colab": {
          "base_uri": "https://localhost:8080/",
          "height": 50
        },
        "outputId": "6f88cfdf-f207-464e-a557-27659cbdfaaa"
      },
      "source": [
        "x = np.arange(1, 14)\n",
        "print(x)\n",
        "np.add.reduce(x)"
      ],
      "execution_count": 92,
      "outputs": [
        {
          "output_type": "stream",
          "text": [
            "[ 1  2  3  4  5  6  7  8  9 10 11 12 13]\n"
          ],
          "name": "stdout"
        },
        {
          "output_type": "execute_result",
          "data": {
            "text/plain": [
              "91"
            ]
          },
          "metadata": {
            "tags": []
          },
          "execution_count": 92
        }
      ]
    },
    {
      "cell_type": "code",
      "metadata": {
        "id": "nYd2V17tKV3q",
        "colab_type": "code",
        "colab": {
          "base_uri": "https://localhost:8080/",
          "height": 34
        },
        "outputId": "a36118f9-40cd-4eef-d54b-9fd23e465fe5"
      },
      "source": [
        "np.multiply.reduce(x)"
      ],
      "execution_count": 93,
      "outputs": [
        {
          "output_type": "execute_result",
          "data": {
            "text/plain": [
              "6227020800"
            ]
          },
          "metadata": {
            "tags": []
          },
          "execution_count": 93
        }
      ]
    },
    {
      "cell_type": "code",
      "metadata": {
        "id": "sYlL1WFgKV3s",
        "colab_type": "code",
        "colab": {
          "base_uri": "https://localhost:8080/",
          "height": 34
        },
        "outputId": "4f3e43f6-abf7-472c-9719-b40cae07cd14"
      },
      "source": [
        "np.add.accumulate(x)"
      ],
      "execution_count": 94,
      "outputs": [
        {
          "output_type": "execute_result",
          "data": {
            "text/plain": [
              "array([ 1,  3,  6, 10, 15, 21, 28, 36, 45, 55, 66, 78, 91])"
            ]
          },
          "metadata": {
            "tags": []
          },
          "execution_count": 94
        }
      ]
    },
    {
      "cell_type": "code",
      "metadata": {
        "id": "rFHdkwrvKV3v",
        "colab_type": "code",
        "colab": {
          "base_uri": "https://localhost:8080/",
          "height": 67
        },
        "outputId": "a5becbdd-1b6b-4748-add8-4fdf6c9620a5"
      },
      "source": [
        "np.multiply.accumulate(x)"
      ],
      "execution_count": 95,
      "outputs": [
        {
          "output_type": "execute_result",
          "data": {
            "text/plain": [
              "array([         1,          2,          6,         24,        120,\n",
              "              720,       5040,      40320,     362880,    3628800,\n",
              "         39916800,  479001600, 6227020800])"
            ]
          },
          "metadata": {
            "tags": []
          },
          "execution_count": 95
        }
      ]
    },
    {
      "cell_type": "code",
      "metadata": {
        "id": "i9i0wMEaKV3x",
        "colab_type": "code",
        "colab": {}
      },
      "source": [
        ""
      ],
      "execution_count": null,
      "outputs": []
    }
  ]
}